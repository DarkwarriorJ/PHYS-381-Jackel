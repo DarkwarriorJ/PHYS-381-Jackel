{
 "cells": [
  {
   "cell_type": "markdown",
   "metadata": {},
   "source": [
    "# PHYS 381 - Assignment #3\n",
    "#### February 12, 2018\n",
    "John Ming Ngo (30020834)\n",
    "\n",
    "Kenneth Barry Sharman (00300185)"
   ]
  },
  {
   "cell_type": "code",
   "execution_count": 1,
   "metadata": {},
   "outputs": [],
   "source": [
    "import numpy as np\n",
    "import scipy.integrate\n",
    "import matplotlib.pyplot as plt\n",
    "%matplotlib inline"
   ]
  },
  {
   "cell_type": "markdown",
   "metadata": {},
   "source": [
    "## Introduction\n",
    "This week we will be looking at the details involved with performing integration using python.\n",
    "\n",
    "There are many functions within SciPy that will take care of the integration details, such as the quad function. However, our goal is to get an underlyling understanding of the process. To begin, we went through the details of using the well known trapazoidal approximation for evaluating an integral. This analysis revealed that two important aspects of numerical integration are the number of divisions and the error involved. We will keep these at the top of our list throughout our analysis.\n",
    "\n",
    "The goal is to use Scipy's romberg function to compute the value of the following triple integral.\n",
    "\n",
    "\n",
    "$$ \\int_{x=0}^1 \\int_{y=0}^\\sqrt{1-x^2} \\int_{z=0}^\\sqrt{1-x^2-y^2} \\frac{dz \\, dy \\, dx}{1 + x^2 + y^2 + z^2} $$\n",
    "\n",
    "After getting comfortable with using the romberg function to take a single integral, we noted that the task at hand was to determine how perform consecutive integrations using a function that can only do one at a time.\n",
    "\n",
    "The solution to this problem is to create a chain of integrations. In the first integral, the function called inside romberg is the second integral. The second integral evaluates romberg with the thrid integral. Finally, the third integral calls romberg with the integrand.\n",
    "\n",
    "The following chunck of code defines the functions necessary to evaluate the triple integration in cartesian coordinates. Note that I will wrap everything into a single function in future versions of the code."
   ]
  },
  {
   "cell_type": "code",
   "execution_count": 2,
   "metadata": {},
   "outputs": [],
   "source": [
    "tolerance = tolerance=1e-3 # Desired absolute tolerance\n",
    "def firstIntegral():\n",
    "    '''\n",
    "    FILL ME OUT\n",
    "    '''\n",
    "    lower = 0.0 # Bounds for first integral  \n",
    "    upper = 1.0\n",
    "    # Integrate second integral over the bounds\n",
    "    return scipy.integrate.romberg(secondIntegral, lower, upper, tol = tolerance, divmax=20)\n",
    "    \n",
    "def secondIntegral(x):\n",
    "    '''\n",
    "    FILL ME OUT\n",
    "    '''\n",
    "    lower = 0 # Bounds for second integral\n",
    "    upper = np.sqrt(np.abs(1-x*x))\n",
    "    # Integrate third integral\n",
    "    return scipy.integrate.romberg(thirdIntegral, lower, upper, args=(x,), tol = tolerance, divmax=20)\n",
    "    \n",
    "def thirdIntegral(x,y):\n",
    "    '''\n",
    "    FILL ME OUT\n",
    "    '''\n",
    "    lower = 0 # Bounds for third integral\n",
    "    upper = np.sqrt(np.abs(1-x*x-y*y))\n",
    "    # Integrate integrand \n",
    "    return scipy.integrate.romberg(function, lower, upper, args=(x,y), tol = tolerance, divmax=20)\n",
    "\n",
    "def function(x,y,z):\n",
    "    '''\n",
    "    FILL ME OUT\n",
    "    '''\n",
    "    return 1/(1+x*x+y*y+z*z)"
   ]
  },
  {
   "cell_type": "code",
   "execution_count": 3,
   "metadata": {},
   "outputs": [
    {
     "name": "stdout",
     "output_type": "stream",
     "text": [
      "Integration result for tolerance=1.0e-03 : 0.3368817777878\n"
     ]
    }
   ],
   "source": [
    "print('Integration result for tolerance=%.1e' % tolerance, ': %.13f' % firstIntegral() )"
   ]
  },
  {
   "cell_type": "markdown",
   "metadata": {},
   "source": [
    "To verify that we are on the right track, we will compare our result to that of the tplquad function found in the scipy library. To use this function, I will make use of the integrand defined in function() above as well as define the"
   ]
  },
  {
   "cell_type": "code",
   "execution_count": 4,
   "metadata": {},
   "outputs": [],
   "source": [
    "def gfun(x):\n",
    "    return 0\n",
    "def hfun(x):\n",
    "    return np.sqrt(np.abs(1-x*x))\n",
    "def qfun(x,y):\n",
    "    return 0\n",
    "def rfun(x,y):\n",
    "    return np.sqrt(np.abs(1-x*x-y*y))"
   ]
  },
  {
   "cell_type": "code",
   "execution_count": 5,
   "metadata": {},
   "outputs": [
    {
     "data": {
      "text/plain": [
       "(0.3370957766592014, 5.438126766630307e-09)"
      ]
     },
     "execution_count": 5,
     "metadata": {},
     "output_type": "execute_result"
    }
   ],
   "source": [
    "scipy.integrate.tplquad(function, 0, 1, gfun, hfun, qfun, rfun, args=(), epsabs=1.49e-08, epsrel=1.49e-08)"
   ]
  },
  {
   "cell_type": "markdown",
   "metadata": {},
   "source": [
    "We note that we see discepancy between the values at the third decimal place. To decrease the error associated with the value of our integration, we will experiement with the tolerance parameter of romberg.\n",
    "\n",
    "From our previous experience in computational physics, we expect that decreasing the tolerance will increase the time required for computation. In this case, decreasing the tolerance will increase the number of calls to the integrand. To get a good idea of what is actually happening in our integration, we must record and display the number of calls to the integrand. I will do so by defining a function with getter/ setter attributes, which can be used as a tracker.  "
   ]
  },
  {
   "cell_type": "code",
   "execution_count": 6,
   "metadata": {},
   "outputs": [],
   "source": [
    "def counter():\n",
    "    '''\n",
    "    FILL ME OUT\n",
    "    '''\n",
    "    n=1\n",
    "    # Closure function\n",
    "    def func():\n",
    "        pass\n",
    "    \n",
    "    # Accessor methods for n\n",
    "    def get_n():\n",
    "        return n\n",
    "    \n",
    "    def increment():\n",
    "        nonlocal n\n",
    "        n += 1\n",
    "    \n",
    "    def reset_n():\n",
    "        nonlocal n\n",
    "        n = 0\n",
    "    \n",
    "    # Attach as function attributes\n",
    "    func.get_n = get_n\n",
    "    func.increment = increment\n",
    "    func.reset_n = reset_n\n",
    "    return func"
   ]
  },
  {
   "cell_type": "code",
   "execution_count": 7,
   "metadata": {},
   "outputs": [],
   "source": [
    "# Create instance of counter\n",
    "count = counter()"
   ]
  },
  {
   "cell_type": "markdown",
   "metadata": {},
   "source": [
    "I will insert the appropriate counter functions into the code which handles the integration, and wrap it all inside of a function. "
   ]
  },
  {
   "cell_type": "code",
   "execution_count": 8,
   "metadata": {},
   "outputs": [],
   "source": [
    "def Integration():\n",
    "    \"\"\"\n",
    "    FILL ME OUT\n",
    "    \"\"\"\n",
    "    \n",
    "    # Restart the counter\n",
    "    count.reset_n()\n",
    "    def outerIntegral1():\n",
    "        \"\"\"\n",
    "        FILL ME OUT\n",
    "        \"\"\"\n",
    "        lower1 = 0.0\n",
    "        upper1 = 1.0\n",
    "        return scipy.integrate.romberg(middleIntegral1, lower1, upper1, tol = tolerance, divmax=20, show=False)\n",
    "    def middleIntegral1(x):\n",
    "        \"\"\"\n",
    "        FILL ME OUT\n",
    "        \"\"\"\n",
    "        lower2 = 0\n",
    "        upper2 = np.sqrt(np.abs(1-x*x))\n",
    "        return scipy.integrate.romberg(innerIntegral1, lower2, upper2, args=(x,), tol = tolerance, divmax=20)\n",
    "    def innerIntegral1(x,y):\n",
    "        '''\n",
    "        FILL ME OUT\n",
    "        '''\n",
    "        lower3 = 0\n",
    "        upper3 = np.sqrt(np.abs(1-x*x-y*y))     \n",
    "        return scipy.integrate.romberg(function, lower3, upper3, args=(x,y), tol = tolerance, divmax=20)\n",
    "    def function(x,y,z):\n",
    "        '''\n",
    "        FILL ME OUT\n",
    "        '''\n",
    "        # Increase counter by one\n",
    "        count.increment()\n",
    "        return 1/(1+x*x+y*y+z*z)\n",
    "    return outerIntegral1()"
   ]
  },
  {
   "cell_type": "markdown",
   "metadata": {},
   "source": [
    "Next I will vary the tolerance and see how the this affects the computation by tracking how many times the integrand is called. I will run a for loop over various tolerance and display the counts."
   ]
  },
  {
   "cell_type": "code",
   "execution_count": 9,
   "metadata": {},
   "outputs": [
    {
     "name": "stdout",
     "output_type": "stream",
     "text": [
      "Tolerance: 1e-01 \n",
      "\tIntegral result: 0.3257807257621 \n",
      "\tIntegrand calls: 33\n",
      "Tolerance: 1e-02 \n",
      "\tIntegral result: 0.3350719562045 \n",
      "\tIntegrand calls: 149\n",
      "Tolerance: 1e-03 \n",
      "\tIntegral result: 0.3368817777878 \n",
      "\tIntegrand calls: 645\n",
      "Tolerance: 1e-04 \n",
      "\tIntegral result: 0.3370695310761 \n",
      "\tIntegrand calls: 6063\n",
      "Tolerance: 1e-05 \n",
      "\tIntegral result: 0.3370923350916 \n",
      "\tIntegrand calls: 78253\n",
      "Tolerance: 1e-06 \n",
      "\tIntegral result: 0.3370953613758 \n",
      "\tIntegrand calls: 419651\n"
     ]
    }
   ],
   "source": [
    "tolList = [1e-1, 1e-2, 1e-3, 1e-4, 1e-5, 1e-6]\n",
    "\n",
    "for element in tolList:\n",
    "    tolerance = element\n",
    "    print('Tolerance: %.e' % element, '\\n\\tIntegral result: %.13f' % Integration(), '\\n\\tIntegrand calls: %1d' % count.get_n())"
   ]
  },
  {
   "cell_type": "markdown",
   "metadata": {},
   "source": [
    "It appears as though the integrand calls are increasing exponentially with respect to decreasing tolerance. To provide a qualitative description of this relationship, we will graph the relationship using a logarithmic scale."
   ]
  },
  {
   "cell_type": "code",
   "execution_count": 10,
   "metadata": {},
   "outputs": [
    {
     "name": "stdout",
     "output_type": "stream",
     "text": [
      "Tolerance:       [1.e-01 1.e-02 1.e-03 1.e-04 1.e-05 1.e-06]\n",
      "Integrand calls: [    33    149    645   6063  78253 419651]\n"
     ]
    }
   ],
   "source": [
    "toleranceList = []\n",
    "countList = []\n",
    "for tolerance in [1e-1, 1e-2, 1e-3, 1e-4, 1e-5, 1e-6]:\n",
    "    count.reset_n()\n",
    "    Integration()\n",
    "    toleranceList.append(tolerance)\n",
    "    countList.append(count.get_n())\n",
    "toleranceList = np.array(toleranceList)\n",
    "countList = np.array(countList)\n",
    "print('Tolerance:      ', toleranceList)\n",
    "print('Integrand calls:', countList)"
   ]
  },
  {
   "cell_type": "code",
   "execution_count": 11,
   "metadata": {},
   "outputs": [
    {
     "data": {
      "image/png": "[encoded data removed]",
      "text/plain": [
       "<matplotlib.figure.Figure at 0x1f14a602be0>"
      ]
     },
     "metadata": {},
     "output_type": "display_data"
    }
   ],
   "source": [
    "plt.plot( toleranceList, countList, 'b-*')\n",
    "plt.xscale('log')\n",
    "plt.yscale('log')"
   ]
  },
  {
   "cell_type": "code",
   "execution_count": 12,
   "metadata": {},
   "outputs": [],
   "source": [
    "def Integration1(integrand,lower1, upper1, lower2, upper2, lower3, upper3):\n",
    "    count.reset_n()\n",
    "    \n",
    "    def outerIntegral1():\n",
    "        return scipy.integrate.romberg(middleIntegral1, lower1, upper1, tol = tolerance, divmax=20, show=False)\n",
    "    \n",
    "    def middleIntegral1(theta):\n",
    "        return scipy.integrate.romberg(innerIntegral1, lower2, upper2, args=(theta,), tol = tolerance, divmax=20)\n",
    "   \n",
    "    def innerIntegral1(theta, phi):   \n",
    "        return scipy.integrate.romberg(integrand, lower3, upper3, args=(theta,phi), tol = tolerance, divmax=20)\n",
    "    \n",
    "    return outerIntegral1()"
   ]
  },
  {
   "cell_type": "code",
   "execution_count": 13,
   "metadata": {},
   "outputs": [],
   "source": [
    "def func_spherical(theta,phi,row):\n",
    "    count.increment()\n",
    "    return (row*row*np.sin(phi))/(1+row*row)"
   ]
  },
  {
   "cell_type": "code",
   "execution_count": 14,
   "metadata": {},
   "outputs": [
    {
     "name": "stdout",
     "output_type": "stream",
     "text": [
      "0.33709577675300595\n"
     ]
    }
   ],
   "source": [
    "integral2 = Integration1(func_spherical, 0, 1, 0, np.pi/2, 0, np.pi/2)\n",
    "print(integral2)"
   ]
  },
  {
   "cell_type": "code",
   "execution_count": null,
   "metadata": {},
   "outputs": [],
   "source": []
  },
  {
   "cell_type": "code",
   "execution_count": null,
   "metadata": {},
   "outputs": [],
   "source": []
  }
 ],
 "metadata": {
  "kernelspec": {
   "display_name": "Python 3",
   "language": "python",
   "name": "python3"
  },
  "language_info": {
   "codemirror_mode": {
    "name": "ipython",
    "version": 3
   },
   "file_extension": ".py",
   "mimetype": "text/x-python",
   "name": "python",
   "nbconvert_exporter": "python",
   "pygments_lexer": "ipython3",
   "version": "3.6.3"
  }
 },
 "nbformat": 4,
 "nbformat_minor": 2
}
