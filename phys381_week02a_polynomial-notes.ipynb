{
 "cells": [
  {
   "cell_type": "markdown",
   "metadata": {},
   "source": [
    "# Polynomials\n",
    "https://en.wikipedia.org/wiki/Polynomial\n",
    "\n",
    "In mathematics, a polynomial is an expression consisting of variables (also called indeterminates) and coefficients, that involves only the operations of addition, subtraction, multiplication, and non-negative integer exponents of variables. An example of a polynomial of a single indeterminate x is $x^2 − 4x + 7$. An example in three variables is $x^3 + 2xyz^22 − yz + 1$.\n",
    "\n",
    "Polynomials appear in a wide variety of areas of mathematics and science. For example, they are used to form polynomial equations, which encode a wide range of problems, from elementary word problems to complicated problems in the sciences; they are used to define polynomial functions, which appear in settings ranging from basic chemistry and physics to economics and social science; they are used in calculus and numerical analysis to approximate other functions. In advanced mathematics, polynomials are used to construct polynomial rings and algebraic varieties, central concepts in algebra and algebraic geometry.\n",
    "\n",
    "\n",
    "Given a polynomial of order $N$ \n",
    "\n",
    "$$ P(x) = a_0 + a_1 x + a_2 x^2 \\ldots = \\sum\\limits_{n=0}^N a_n x^n $$\n",
    "\n",
    "we can easily evaluate it at any arbitrary point $x_i$\n",
    "\n",
    "$$ P(x_i) = \\sum\\limits_{n=0}^N a_n x_i^n $$\n",
    "\n",
    "\n",
    "we can easily determine the derivative with respect to $x$\n",
    "\n",
    "$$ \\frac{d}{dx} P(x) = a_1 + 2 a_2 x \\ldots $$\n",
    "\n",
    "and the integral\n",
    "\n",
    "$$  \\int P(x) dx = C + a_0 x + \\frac{1}{2} a_1 x^2 \\ldots $$\n",
    "\n",
    "\n",
    "Many functions can be approximated by Taylor series\n",
    "\n",
    "$$ f(x) \\approx c_0 + c_1 x + c_2 x^2 \\ldots = \\sum\\limits_{n=0}^N c_n x^n $$\n",
    "\n",
    "\n",
    "\n",
    "These calculations can be implemented using only core python"
   ]
  },
  {
   "cell_type": "code",
   "execution_count": 6,
   "metadata": {
    "collapsed": true
   },
   "outputs": [],
   "source": [
    "def poly_eval_basic_forward(x, coeff):\n",
    "    \"\"\"evaluate a polynomal\n",
    "    \"\"\"\n",
    "    \n",
    "    result = 0.0\n",
    "    for n,c in enumerate(coeff):\n",
    "        result = result + c * x**n\n",
    "    return result"
   ]
  },
  {
   "cell_type": "code",
   "execution_count": 7,
   "metadata": {
    "collapsed": false
   },
   "outputs": [
    {
     "name": "stdout",
     "output_type": "stream",
     "text": [
      "1.78125\n"
     ]
    }
   ],
   "source": [
    "print( poly_eval_basic_forward(0.5, [0,1,2,3,4,5]) )"
   ]
  },
  {
   "cell_type": "markdown",
   "metadata": {},
   "source": [
    "## Horner's method\n",
    "\n",
    "Exponentiation is computationally ``expensive'' (CPU intensive).  If we reverse the order of summation then we only need multiplication and addition\n",
    "$$((c_N*x + c_{N-1} )*x + c_{N-2})* x \\ldots + c_0$$\n",
    "which can be calculated more quickly."
   ]
  },
  {
   "cell_type": "code",
   "execution_count": 8,
   "metadata": {
    "collapsed": true
   },
   "outputs": [],
   "source": [
    "def poly_eval_basic_reverse(x, coeff):\n",
    "    result = coeff[-1]\n",
    "    for c in coeff[-2::-1]:\n",
    "        result = result * x + c\n",
    "    return result"
   ]
  },
  {
   "cell_type": "code",
   "execution_count": 9,
   "metadata": {
    "collapsed": false
   },
   "outputs": [
    {
     "name": "stdout",
     "output_type": "stream",
     "text": [
      "1.78125\n"
     ]
    }
   ],
   "source": [
    "print( poly_eval_basic_reverse(0.5, [0,1,2,3,4,5]) )"
   ]
  },
  {
   "cell_type": "markdown",
   "metadata": {},
   "source": [
    "## %timeit\n",
    "\n",
    "The IPython interpreter can execute several ``magic'' commands that can be used for code analysis.  For example, we can show that Horner's method (reverse evaluation of polynomials) is roughly twice as fast as forward evaluation."
   ]
  },
  {
   "cell_type": "code",
   "execution_count": 10,
   "metadata": {
    "collapsed": false
   },
   "outputs": [
    {
     "name": "stdout",
     "output_type": "stream",
     "text": [
      "The slowest run took 5.09 times longer than the fastest. This could mean that an intermediate result is being cached.\n",
      "1000000 loops, best of 3: 1.81 µs per loop\n"
     ]
    }
   ],
   "source": [
    " %timeit poly_eval_basic_forward(0.5, [0,1,2,3,4,5])"
   ]
  },
  {
   "cell_type": "code",
   "execution_count": 11,
   "metadata": {
    "collapsed": false
   },
   "outputs": [
    {
     "name": "stdout",
     "output_type": "stream",
     "text": [
      "The slowest run took 4.25 times longer than the fastest. This could mean that an intermediate result is being cached.\n",
      "1000000 loops, best of 3: 956 ns per loop\n"
     ]
    }
   ],
   "source": [
    "%timeit poly_eval_basic_reverse(0.5, [0,1,2,3,4,5])"
   ]
  },
  {
   "cell_type": "markdown",
   "metadata": {},
   "source": [
    "## floating point math\n",
    "\n",
    "Evaluating at $x=0.1$ for a large number of coefficients gives slightly different results from forward and reverse evaluation."
   ]
  },
  {
   "cell_type": "code",
   "execution_count": 12,
   "metadata": {
    "collapsed": false
   },
   "outputs": [
    {
     "name": "stdout",
     "output_type": "stream",
     "text": [
      "0.12345679012345678 0.12345679012345681 2.7755575615628914e-17\n"
     ]
    }
   ],
   "source": [
    "p1 = poly_eval_basic_forward(0.1, range(0,99,1) )\n",
    "p2 = poly_eval_basic_reverse(0.1, range(0,99,1) )\n",
    "print( p1, p2, p2-p1)"
   ]
  },
  {
   "cell_type": "markdown",
   "metadata": {},
   "source": [
    "### Question 1: Why are the two results different?  Should we worry about this?\n",
    "\n",
    "Answer: The two results are different in terms of final value due to the representation of floating point numbers in the computer memory system. Since between the first method and the second method, the order of calculations performed is different (and exponentiation may be an entirely different process than addition and multiplication altogether), the intermediately stored floating point values are different, resulting in different approximations along the way, resulting in slightly differing results. We should worry about this if our calculation requires high precision - in the above example, the two methods differ on the order of e-17, so we should be safe down to e-15 or so. We should also worry if we're looking to do a boolean compare between the two values - they won't produce the exact same number, resulting in false even if the two results are supposed to be the same if we naively do a direct == comparison. A comparison to check similarity down to a certain tolerance is more robust for floating point comparisons: abs(resultOne - resultTwo) < 1e-14, for example.\n",
    "\n",
    "In terms of differing in terms of amount of time required to process it, it is mentioned above that exponentiation is a time consuming process. Furthermore, in Horner's method, we only do addition and multiplication, whereas in the forward eval method, we do addition, multiplication and exponentation - we have one extra step altogether. If for any given input length n, one method performs two operations on n and another performs three, and the two operations are also present in the three operations, then the two operations method will be faster."
   ]
  },
  {
   "cell_type": "markdown",
   "metadata": {},
   "source": [
    "## math\n",
    "\n",
    "Python provides support for basic integer and floating point arithmetic as part of the language core.  Additional functionality is provided by the ``math'' module.  Information about these functions can be obtained by typing \n",
    " ``dir(math)'' or ``help(math)''."
   ]
  },
  {
   "cell_type": "code",
   "execution_count": 13,
   "metadata": {
    "collapsed": false
   },
   "outputs": [
    {
     "name": "stdout",
     "output_type": "stream",
     "text": [
      "Help on built-in function factorial in module math:\n",
      "\n",
      "factorial(...)\n",
      "    factorial(x) -> Integral\n",
      "    \n",
      "    Find x!. Raise a ValueError if x is negative or non-integral.\n",
      "\n",
      "99! = 933262154439441526816992388562667004907159682643816214685929638952175999932299156089414639761565182862536979208272237582511852109168640000000000000000000000\n"
     ]
    }
   ],
   "source": [
    "import math\n",
    "help( math.factorial)\n",
    "print( '99! =',  math.factorial(99) )"
   ]
  },
  {
   "cell_type": "markdown",
   "metadata": {},
   "source": [
    "## numpy\n",
    "\n",
    "Although the core python math is actually quite good, we will tend to use tools provided by the numpy and scipy modules.\n",
    "\n",
    "<pre>\n",
    "import numpy as np\n",
    "import scipy.special as specfunc\n",
    "</pre>\n",
    "\n",
    "Numpy is especially useful for vectorized operations when we want to apply the same transformation to a sequence of numbers.  This can be done in python using lists, but using numpy arrays is often more convenient and usually much faster."
   ]
  },
  {
   "cell_type": "code",
   "execution_count": 14,
   "metadata": {
    "collapsed": false
   },
   "outputs": [
    {
     "name": "stdout",
     "output_type": "stream",
     "text": [
      "10000 loops, best of 3: 32.1 µs per loop\n"
     ]
    }
   ],
   "source": [
    "%timeit y = [x**2 for x in range(99)]\n"
   ]
  },
  {
   "cell_type": "code",
   "execution_count": 15,
   "metadata": {
    "collapsed": false
   },
   "outputs": [
    {
     "name": "stdout",
     "output_type": "stream",
     "text": [
      "The slowest run took 26.69 times longer than the fastest. This could mean that an intermediate result is being cached.\n",
      "1000000 loops, best of 3: 1.37 µs per loop\n"
     ]
    }
   ],
   "source": [
    "import numpy as np\n",
    "%timeit y = np.arange(99)**2"
   ]
  },
  {
   "cell_type": "markdown",
   "metadata": {},
   "source": [
    "Note that the previous evaluation routines were written in such a way that we can pass numpy arrays instead of lists and everything will just work."
   ]
  },
  {
   "cell_type": "code",
   "execution_count": 16,
   "metadata": {
    "collapsed": false
   },
   "outputs": [
    {
     "data": {
      "text/plain": [
       "array([  1.23456790e-01,   2.00000000e+00,   2.57935317e+03])"
      ]
     },
     "execution_count": 16,
     "metadata": {},
     "output_type": "execute_result"
    }
   ],
   "source": [
    "x = np.array([0.1, 0.5, 0.99])\n",
    "coeff = np.arange(0,99,1)\n",
    "poly_eval_basic_reverse(x, coeff)"
   ]
  },
  {
   "cell_type": "markdown",
   "metadata": {},
   "source": []
  },
  {
   "cell_type": "markdown",
   "metadata": {},
   "source": [
    "### Question 2: Write a function which uses numpy to evaluate the Taylor series expansion of sin(x) for an array of x, and an arbitrary number of terms ie.\n",
    "<pre>\n",
    "def sin_eval_taylor(x, ncoeff):\n",
    "    \"\"\"\n",
    "     docstring goes here\n",
    "    \"\"\"\n",
    "    ...\n",
    "     calculations go here\n",
    "    ...\n",
    "    \n",
    "    return result\n",
    "</pre>"
   ]
  },
  {
   "cell_type": "code",
   "execution_count": 80,
   "metadata": {
    "collapsed": false
   },
   "outputs": [
    {
     "name": "stdout",
     "output_type": "stream",
     "text": [
      "[0.479425538604203]\n",
      "10000 loops, best of 3: 114 µs per loop\n",
      "10000 loops, best of 3: 131 µs per loop\n"
     ]
    }
   ],
   "source": [
    "def sin_eval_taylor(x, ncoeff, forward = False):\n",
    "    '''\n",
    "    First, we're assuming that we're doing a MacLaurin series,\n",
    "    according to the fact that there's no parameter for\n",
    "    approximating around some given value.\n",
    "    \n",
    "    So the basic idea is that we know the value of the derrivatives\n",
    "    of sine around 0: 0, 1, 0, -1, in a cycle. We divide the value by\n",
    "    the factorial of its nth term, according to the Taylor series\n",
    "    formulation. From there, we calculate the Taylor polynomial\n",
    "    using the previously defined polynomial calculation function\n",
    "    for each input x value, and return a list whose values corrispond\n",
    "    to the value evaluated by the Taylor series.\n",
    "    \n",
    "    #This function utilizes the two prior functions above - forward\n",
    "    calculation and backwards Horner's method function.\n",
    "    \n",
    "    This function crashes at ncoeff>180 or so, due to floating point\n",
    "    calculation problems.\n",
    "    \n",
    "    This function uses the reverse evaluation method.\n",
    "    '''\n",
    "    #Generates the coefficients for the polynomial calculations.\n",
    "    coefficients = []\n",
    "    n = ncoeff+1\n",
    "    for aCoefficient in range(n):\n",
    "        factorialValue = np.math.factorial(aCoefficient)\n",
    "        if aCoefficient % 4 == 0 or aCoefficient % 4 == 2:\n",
    "            coefficients.append(0)\n",
    "        elif aCoefficient % 4 == 1:\n",
    "            coefficients.append(1.0/factorialValue)\n",
    "        elif aCoefficient % 4 == 3:\n",
    "            coefficients.append(-1.0/factorialValue)\n",
    "    #Generates the calculated results.\n",
    "    result = []\n",
    "    if forward:\n",
    "        for value in x:\n",
    "            result.append(poly_eval_basic_forward(value, coefficients))\n",
    "    else:\n",
    "        for value in x:\n",
    "            result.append(poly_eval_basic_reverse(value, coefficients))\n",
    "    return result\n",
    "print(sin_eval_taylor([0.5], 99))\n",
    "%timeit sin_eval_taylor([0.5], 99)\n",
    "%timeit sin_eval_taylor([0.5], 99, True)"
   ]
  },
  {
   "cell_type": "markdown",
   "metadata": {},
   "source": [
    "## matplotlib\n",
    "\n",
    "Graphing and graphical display support is provided by the matplotlib module, typically imported as ``plt''.\n"
   ]
  },
  {
   "cell_type": "code",
   "execution_count": 69,
   "metadata": {
    "collapsed": false
   },
   "outputs": [],
   "source": [
    "%matplotlib inline\n",
    "import matplotlib.pyplot as plt"
   ]
  },
  {
   "cell_type": "code",
   "execution_count": 70,
   "metadata": {
    "collapsed": false
   },
   "outputs": [
    {
     "data": {
      "text/plain": [
       "[<matplotlib.lines.Line2D at 0x7f4d1c215f60>]"
      ]
     },
     "execution_count": 70,
     "metadata": {},
     "output_type": "execute_result"
    },
    {
     "data": {
      "image/png": "[encoded data removed]",
      "text/plain": [
       "<matplotlib.figure.Figure at 0x7f4d1c347208>"
      ]
     },
     "metadata": {},
     "output_type": "display_data"
    }
   ],
   "source": [
    "x = np.arange(-0.9, 0.9, 0.01)\n",
    "coeff = np.arange(0,99,1)\n",
    "y = poly_eval_basic_reverse(x, coeff)\n",
    "plt.plot(x,y)"
   ]
  },
  {
   "cell_type": "markdown",
   "metadata": {},
   "source": [
    "### Question 3: Use sin_eval_taylor to plot Taylor series expansions of sin(x) for order n=4, 9, 19, 99 and compare to the \"true\" value.  Try to make the figure look *exactly* like the one included below."
   ]
  },
  {
   "cell_type": "markdown",
   "metadata": {},
   "source": [
    "<img src=\"../fig/sin_taylor_series.png\">"
   ]
  },
  {
   "cell_type": "code",
   "execution_count": 81,
   "metadata": {
    "collapsed": false
   },
   "outputs": [
    {
     "data": {
      "text/plain": [
       "<matplotlib.legend.Legend at 0x7f4d1c035518>"
      ]
     },
     "execution_count": 81,
     "metadata": {},
     "output_type": "execute_result"
    },
    {
     "data": {
      "image/png": "[encoded data removed]",
      "text/plain": [
       "<matplotlib.figure.Figure at 0x7f4d1f82e5f8>"
      ]
     },
     "metadata": {},
     "output_type": "display_data"
    }
   ],
   "source": [
    "#Initial chart math, calculates the values.\n",
    "x = np.arange(-10, 10, 0.2)\n",
    "N3 = sin_eval_taylor(x, 1)\n",
    "N9 = sin_eval_taylor(x, 3)\n",
    "N19 = sin_eval_taylor(x, 17)\n",
    "N99 = sin_eval_taylor(x, 29)\n",
    "sineValue = np.sin(x)\n",
    "\n",
    "#Sets up the chart, limiting size and specifying grid.\n",
    "plt.axis((-14,10,-2.0,2.0))\n",
    "plt.grid(True)\n",
    "\n",
    "#Labels and plots the chart.\n",
    "plt.xlabel(\"x-axis\")\n",
    "plt.ylabel(\"y-axis\")\n",
    "plt.title(\"Taylor Series Expansion of sin(x)\")\n",
    "plt.plot(x, N3, \"co-\", x, N9, \"b^-\", x, N19, \"gv-\", x, N99, \"rs-\", x, sineValue, \"k-\")\n",
    "plt.legend(['N=1', 'N=3', 'N=17', 'N=29', 'sin(x)'], loc = 'upper left', shadow = True)"
   ]
  },
  {
   "cell_type": "markdown",
   "metadata": {},
   "source": [
    "### Question 4: What are the absolute and the relative error (in percent) for Taylor series expansion of sin(x) at x=0.5 for n=3, 9, 29? Compare results of forward summing to reverse.  How else might we reduce roundoff error?\n"
   ]
  },
  {
   "cell_type": "code",
   "execution_count": 84,
   "metadata": {
    "collapsed": false
   },
   "outputs": [
    {
     "name": "stdout",
     "output_type": "stream",
     "text": [
      "Forward Case Results:\n",
      "Absolute N3 Error is: 0.000258871937536\n",
      "Relative N3 Error is: 0.0539962761037 %\n",
      "Absolute N9 Error is: 1.22128973601e-11\n",
      "Relative N9 Error is: 2.54740233398e-09 %\n",
      "Absolute N29 Error is: 0.0\n",
      "Relative N29 Error is: 0.0 %\n",
      "\n",
      "Reverse Case Results:\n",
      "Absolute N3 Error is: 0.000258871937536\n",
      "Relative N3 Error is: 0.0539962761037 %\n",
      "Absolute N9 Error is: 1.22128973601e-11\n",
      "Relative N9 Error is: 2.54740233398e-09 %\n",
      "Absolute N29 Error is: 0.0\n",
      "Relative N29 Error is: 0.0 %\n",
      "\n"
     ]
    }
   ],
   "source": [
    "#Run program to get absolute and relative errors.\n",
    "def getResults(forward = False, inputType = np.float64, inputValue = 0.5):\n",
    "    #Calculates results\n",
    "    x = np.array([inputValue], dtype = inputType)\n",
    "    N3 = sin_eval_taylor(x, 3, forward)\n",
    "    N9 = sin_eval_taylor(x, 9, forward)\n",
    "    N29 = sin_eval_taylor(x, 29, forward)\n",
    "    sineValue = np.sin(x)\n",
    "\n",
    "    #Calculates Abs Error\n",
    "    N3Error = np.abs(N3[0]-sineValue[0])\n",
    "    N9Error = np.abs(N9[0]-sineValue[0])\n",
    "    N29Error = np.abs(N29[0]-sineValue[0])\n",
    "\n",
    "    #Calculates Rel. Error\n",
    "    N3RelError = np.abs(N3Error/sineValue[0] * 100)\n",
    "    N9RelError = np.abs(N9Error/sineValue[0] * 100)\n",
    "    N29RelError = np.abs(N29Error/sineValue[0] * 100)\n",
    "\n",
    "    #Prints Case:\n",
    "    if forward:\n",
    "        print(\"Forward Case Results:\")\n",
    "    else:\n",
    "        print(\"Reverse Case Results:\")\n",
    "\n",
    "    #Prints Results:\n",
    "    print(\"Absolute N3 Error is:\", N3Error)\n",
    "    print(\"Relative N3 Error is:\", N3RelError, \"%\")\n",
    "    print(\"Absolute N9 Error is:\", N9Error)\n",
    "    print(\"Relative N9 Error is:\", N9RelError, \"%\")\n",
    "    print(\"Absolute N29 Error is:\", N29Error)\n",
    "    print(\"Relative N29 Error is:\", N29RelError, \"%\")\n",
    "    print()\n",
    "getResults(True)\n",
    "getResults()"
   ]
  },
  {
   "cell_type": "markdown",
   "metadata": {},
   "source": [
    "Comparing the Forward and Reverse cases above, the results of forward and backwards summation is identical in terms of errors and percentage errors - it would seem that whatever roundoff errors are introduced by the particular methods, as noted in prior questions, are drowned off by the taylor series approximation errors where they might matter, and then eliminated when floating point sizes are increased. Reducing roundoff error can be done by increasing float size and reducing algebraic operations, but note in this case Taylor series approximation errors are bigger than the roundoff errors and increase with reduced algebratic operations (with lower N)."
   ]
  },
  {
   "cell_type": "markdown",
   "metadata": {},
   "source": [
    "### Question 5: What happens if we use different floating point precision ie. np.float16, np.float32, np.float64, np.float128 for the calculations in Question 4?  Briefly discuss the advantages and disadvantages of using different floating point types.\n",
    "\n",
    "Firstly, as we ascend from float16 to float128, we see that the absolute and relative error drops up to a point - the relative error in N=3 is many times larger than the relative error in N=9, but between N=99 and N=9, the results are virtually identical at smaller float sizes. At larger float sizes, the difference between the two becomes significant. The code that justifies these observations is as below.\n",
    "\n",
    "Secondly, float16 to float128 exist on a spectrum relative to each other, where float16 is the quickest data type to use because it utilizes the least data (16 bits), but is also the least precise because it uses less data and so has greater roundoff error, and vice versa on the other end of the spectrum for float128. Such are the advantages and disadvantages of each float type. In general, if you need quick calculations and don't need high precision, use a lower end floating point number like float16, and if you need high accuracy and precision, utilize float128 instead, with the floats in between being chosen for being an intermediary of these charecteristics.\n"
   ]
  },
  {
   "cell_type": "code",
   "execution_count": 74,
   "metadata": {
    "collapsed": false
   },
   "outputs": [
    {
     "name": "stdout",
     "output_type": "stream",
     "text": [
      "Reverse Case Results:\n",
      "Absolute N3 Error is: -0.000325520833333\n",
      "Relative N3 Error is: -0.0678886625933 %\n",
      "Absolute N9 Error is: -6.66488835841e-05\n",
      "Relative N9 Error is: -0.0138998893666 %\n",
      "Absolute N29 Error is: -6.6648895797e-05\n",
      "Relative N29 Error is: -0.0138998919137 %\n",
      "\n",
      "Reverse Case Results:\n",
      "Absolute N3 Error is: -0.000258882840474\n",
      "Relative N3 Error is: -0.0539985490428 %\n",
      "Absolute N9 Error is: -1.08907252105e-08\n",
      "Relative N9 Error is: -2.27161969606e-06 %\n",
      "Absolute N29 Error is: -1.09029381079e-08\n",
      "Relative N29 Error is: -2.27416709834e-06 %\n",
      "\n",
      "Reverse Case Results:\n",
      "Absolute N3 Error is: -0.000258871937536\n",
      "Relative N3 Error is: -0.0539962761037 %\n",
      "Absolute N9 Error is: 1.22128973601e-11\n",
      "Relative N9 Error is: 2.54740233398e-09 %\n",
      "Absolute N29 Error is: 0.0\n",
      "Relative N29 Error is: 0.0 %\n",
      "\n",
      "Reverse Case Results:\n",
      "Absolute N3 Error is: -0.000258871937536\n",
      "Relative N3 Error is: -0.0539962761037 %\n",
      "Absolute N9 Error is: 1.22128959235e-11\n",
      "Relative N9 Error is: 2.54740203433e-09 %\n",
      "Absolute N29 Error is: 1.13841228111e-18\n",
      "Relative N29 Error is: 2.37453408182e-16 %\n",
      "\n"
     ]
    }
   ],
   "source": [
    "getResults(inputType = np.float16)\n",
    "getResults(inputType = np.float32)\n",
    "getResults(inputType = np.float64)\n",
    "getResults(inputType = np.float128)"
   ]
  },
  {
   "cell_type": "code",
   "execution_count": null,
   "metadata": {
    "collapsed": true
   },
   "outputs": [],
   "source": []
  }
 ],
 "metadata": {
  "anaconda-cloud": {},
  "kernelspec": {
   "display_name": "Python 3",
   "language": "python",
   "name": "python3"
  },
  "language_info": {
   "codemirror_mode": {
    "name": "ipython",
    "version": 3
   },
   "file_extension": ".py",
   "mimetype": "text/x-python",
   "name": "python",
   "nbconvert_exporter": "python",
   "pygments_lexer": "ipython3",
   "version": "3.5.2"
  }
 },
 "nbformat": 4,
 "nbformat_minor": 1
}
